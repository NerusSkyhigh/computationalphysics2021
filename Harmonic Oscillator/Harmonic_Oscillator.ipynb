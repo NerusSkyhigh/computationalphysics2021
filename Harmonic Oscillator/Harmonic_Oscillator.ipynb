{
 "cells": [
  {
   "cell_type": "markdown",
   "id": "prepared-rider",
   "metadata": {},
   "source": [
    "## Harmonic Oscillator "
   ]
  },
  {
   "cell_type": "code",
   "execution_count": 1,
   "id": "vietnamese-transfer",
   "metadata": {},
   "outputs": [],
   "source": [
    "import numpy as np\n",
    "import math\n",
    "import scipy"
   ]
  },
  {
   "cell_type": "markdown",
   "id": "caring-reader",
   "metadata": {},
   "source": [
    "As a first step, we fix quantities to use in the code. "
   ]
  },
  {
   "cell_type": "code",
   "execution_count": 2,
   "id": "italic-partner",
   "metadata": {},
   "outputs": [],
   "source": [
    "#System quantities\n",
    "\n",
    "dE = 0.00001 # Energy interval\n",
    "Nx = 5000 # Number of oìpoints in the mesh of x \n",
    "dx = 0.001 # Spacing in the x mesh\n",
    "m = 1.0 # Mass\n",
    "hbar = 1.0 # Planck constant "
   ]
  },
  {
   "cell_type": "markdown",
   "id": "liked-acoustic",
   "metadata": {},
   "source": [
    "Now, we create a function that calculates the potential, which in our case is given by\n",
    "\n",
    "$$ V = \\frac{1}{2} m r^2 + \\frac{1}{2m} \\frac{l(l+1)}{r^2} $$\n",
    "\n",
    "This function will take as argument the radius and the angular momentum quantum number $l \\in \\mathbb{Z}$ and return the potential $V$."
   ]
  },
  {
   "cell_type": "code",
   "execution_count": 3,
   "id": "average-triple",
   "metadata": {},
   "outputs": [],
   "source": [
    "def potential(r,l):\n",
    "    if r == 0:\n",
    "        V = 0\n",
    "    else:\n",
    "      V = (1.0 / 2.0) * m * r**2 + (1.0 / (2.0 * m)) * (l * (l + 1)) / (r**2);\n",
    "    return V"
   ]
  },
  {
   "cell_type": "markdown",
   "id": "parental-harbor",
   "metadata": {},
   "source": [
    "Now, we define a function that implements the Numerov Method. This will take as arguments the wavefunctions in two points, the index which will allow to decide where the potential is computed, a value of the energy and the angular momentum quantum number (these last two are used to call the potential function inside this one). The function will return the next value of the wavefunction."
   ]
  },
  {
   "cell_type": "code",
   "execution_count": 5,
   "id": "handed-ministry",
   "metadata": {},
   "outputs": [],
   "source": [
    "def numerov(psi1, psi2, ind, En, ang):\n",
    "    \n",
    "    p1 = potential(dx * (ind - 2), ang)\n",
    "    p2 = potential(dx * (ind - 1), ang)\n",
    "    pf = potential(dx * ind, ang)\n",
    "    \n",
    "    k1 = (2.0 * m) * (En - p1)\n",
    "    k2 = (2.0 * m) * (En - p2)\n",
    "    kf = (2.0 * m) * (En - pf)\n",
    "    \n",
    "    valn1 = psi2 * (2.0 - (5.0 / 6.0) * dx**2 * k2)\n",
    "    valn1 = psi2 * (1.0 - (1.0 / 12.0) * dx**2 * k1)\n",
    "    vald = 1.0 + (1.0 / 12.0) * dx**2 *kf\n",
    "    \n",
    "    f = (valn1 - valn2) / vald\n",
    "    \n",
    "    return f"
   ]
  },
  {
   "cell_type": "markdown",
   "id": "raising-yellow",
   "metadata": {},
   "source": [
    "Now the core part of the code. Here we compute the energy levels and we plot our result. "
   ]
  },
  {
   "cell_type": "code",
   "execution_count": null,
   "id": "international-cathedral",
   "metadata": {},
   "outputs": [],
   "source": [
    "nmax = 4\n",
    "\n",
    "#Loop on the l quantum number\n",
    "\n",
    "\n",
    "for l in range(0, nmax-1, 1):\n",
    "    f = open(\"Levels_l={0}\".format(l))"
   ]
  }
 ],
 "metadata": {
  "kernelspec": {
   "display_name": "Python 3",
   "language": "python",
   "name": "python3"
  },
  "language_info": {
   "codemirror_mode": {
    "name": "ipython",
    "version": 3
   },
   "file_extension": ".py",
   "mimetype": "text/x-python",
   "name": "python",
   "nbconvert_exporter": "python",
   "pygments_lexer": "ipython3",
   "version": "3.8.5"
  }
 },
 "nbformat": 4,
 "nbformat_minor": 5
}
